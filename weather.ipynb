{
  "nbformat": 4,
  "nbformat_minor": 0,
  "metadata": {
    "colab": {
      "name": "weather.ipynb",
      "provenance": [],
      "collapsed_sections": [],
      "authorship_tag": "ABX9TyMcXITPtGUDJBRkYzL2yqte",
      "include_colab_link": true
    },
    "kernelspec": {
      "name": "python3",
      "display_name": "Python 3"
    },
    "language_info": {
      "name": "python"
    }
  },
  "cells": [
    {
      "cell_type": "markdown",
      "metadata": {
        "id": "view-in-github",
        "colab_type": "text"
      },
      "source": [
        "<a href=\"https://colab.research.google.com/github/Rita63/SHAPEAI-PROJECT/blob/main/weather.ipynb\" target=\"_parent\"><img src=\"https://colab.research.google.com/assets/colab-badge.svg\" alt=\"Open In Colab\"/></a>"
      ]
    },
    {
      "cell_type": "code",
      "metadata": {
        "colab": {
          "base_uri": "https://localhost:8080/"
        },
        "id": "W5q-pw7aIN8Y",
        "outputId": "7ea8ab8e-b39d-4a06-d276-a148fc194577"
      },
      "source": [
        "\n",
        "import requests\n",
        "#import os\n",
        "from datetime import datetime\n",
        "\n",
        "\n",
        "api_key = 'e2171780fb0d42d8d7d5a16b920d58e1'\n",
        "location = input(\"Enter the city name: \")\n",
        "\n",
        "complete_api_link = \"https://api.openweathermap.org/data/2.5/weather?q=\"+location+\"&appid=\"+api_key\n",
        "api_link = requests.get(complete_api_link)\n",
        "api_data = api_link.json()\n",
        "\n",
        "#create variables to store and display data\n",
        "temp_city = ((api_data['main']['temp']) - 273.15)\n",
        "weather_desc = api_data['weather'][0]['description']\n",
        "hmdt = api_data['main']['humidity']\n",
        "wind_spd = api_data['wind']['speed']\n",
        "date_time = datetime.now().strftime(\"%d %b %Y | %I:%M:%S %p\")\n",
        "\n",
        "print (\"-------------------------------------------------------------\")\n",
        "print (\"Weather Stats for - {}  || {}\".format(location.upper(), date_time))\n",
        "print (\"-------------------------------------------------------------\")\n",
        "\n",
        "print (\"Current temperature is: {:.2f} deg C\".format(temp_city))\n",
        "print (\"Current weather desc  :\",weather_desc)\n",
        "print (\"Current Humidity      :\",hmdt, '%')\n",
        "print (\"Current wind speed    :\",wind_spd ,'kmph')\n",
        "with open(\"weather.txt\", \"w\") as output:\n",
        "     output.write(str(\"\\ncity name:\"))\n",
        "     output.write(str(\"ludhiana\"))\n",
        "     output.write(str(\"\\ntemperature:\"))\n",
        "     output.write(str(temp_city))\n",
        "     output.write(str(\"\\nhumidity:\"))\n",
        "     output.write( str(hmdt))\n",
        "     output.write(str(\"\\nweather:\"))\n",
        "\n",
        "     output.write( str(weather_desc))\n",
        "     output.write(str(\"\\nwind speed:\"))\n",
        "     output.write( str(wind_spd))\n",
        "     output.write(str(\"\\ndate and time:\"))\n",
        "     output.write( str(date_time))\n",
        "     \n",
        "     \n",
        "     \n",
        "  \n",
        "     "
      ],
      "execution_count": 13,
      "outputs": [
        {
          "output_type": "stream",
          "text": [
            "Enter the city name: ludhiana\n",
            "-------------------------------------------------------------\n",
            "Weather Stats for - LUDHIANA  || 23 Jun 2021 | 11:30:22 AM\n",
            "-------------------------------------------------------------\n",
            "Current temperature is: 44.49 deg C\n",
            "Current weather desc  : clear sky\n",
            "Current Humidity      : 9 %\n",
            "Current wind speed    : 3.28 kmph\n"
          ],
          "name": "stdout"
        }
      ]
    }
  ]
}